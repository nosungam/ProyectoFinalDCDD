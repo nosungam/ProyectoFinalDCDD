{
 "cells": [
  {
   "cell_type": "markdown",
   "id": "12122925-c70c-435f-9f38-03f0052b5eeb",
   "metadata": {},
   "source": [
    "# Modelo K-Nearest Neighbours"
   ]
  },
  {
   "cell_type": "markdown",
   "id": "45549003-0b22-4b6c-bd1d-cb9a6e06c362",
   "metadata": {},
   "source": [
    "### Este modelo fue seleccionado por su carácter no paramétrico y basado en similitud, lo que lo convierte en una alternativa adecuada para trabajar con una base reducida en número de filas pero amplia en cantidad de variables.\n",
    "\n",
    "### El enfoque principal consiste en explorar patrones locales que permitan discernir entre médicos con y sin riesgo de burnout. Se detallan las fases de preprocesamiento, búsqueda de hiperparámetros, validación cruzada y evaluación de métricas, con el fin de analizar la capacidad predictiva del modelo comparada al resto de los explorados."
   ]
  },
  {
   "cell_type": "code",
   "execution_count": 1,
   "id": "f20aaace-2f3f-4332-bc25-13472595b902",
   "metadata": {},
   "outputs": [],
   "source": [
    "# Importar librerias\n",
    "import pandas as pd\n",
    "from sklearn.model_selection import train_test_split, GridSearchCV, StratifiedKFold, cross_val_score\n",
    "from sklearn.preprocessing import StandardScaler, RobustScaler, PowerTransformer\n",
    "from sklearn.impute import SimpleImputer\n",
    "from sklearn.feature_selection import SelectKBest, f_classif, RFECV\n",
    "from sklearn.neighbors import KNeighborsClassifier\n",
    "from sklearn.ensemble import RandomForestClassifier\n",
    "from imblearn.over_sampling import SMOTE, RandomOverSampler\n",
    "from sklearn.metrics import (accuracy_score, precision_score, recall_score, \n",
    "                           f1_score, roc_auc_score, confusion_matrix, \n",
    "                           classification_report, roc_curve, auc)\n",
    "from sklearn.inspection import permutation_importance\n",
    "import seaborn as sns\n",
    "import matplotlib.pyplot as plt\n",
    "import numpy as np\n",
    "from sklearn.feature_selection import SelectKBest, mutual_info_classif\n",
    "from imblearn.pipeline import Pipeline \n",
    "from imblearn.over_sampling import RandomOverSampler\n",
    "import warnings\n",
    "warnings.filterwarnings('ignore')"
   ]
  },
  {
   "cell_type": "code",
   "execution_count": 2,
   "id": "8ee77b34-6cd6-46d0-8f57-1eaa9e4c924e",
   "metadata": {},
   "outputs": [],
   "source": [
    "# Cargar el dataset\n",
    "file_path = \"Proyecto_final.csv\"\n",
    "df = pd.read_csv(file_path, sep=';')"
   ]
  },
  {
   "cell_type": "code",
   "execution_count": 3,
   "id": "c1b79159-feaf-4006-a84e-cbcde83b9b7b",
   "metadata": {},
   "outputs": [],
   "source": [
    "# Calcular LGS_Puntaje\n",
    "lgs_items = [col for col in df.columns if col.startswith(\"LGS_\") and col != \"LGS_Puntaje\"]\n",
    "df[\"LGS_Puntaje\"] = df[lgs_items].sum(axis=1)\n",
    "\n",
    "# Eliminar columnas relacionadas con el burnout\n",
    "df = df.drop(columns=[\"GBC_Puntaje\", \"AE_MBI\", \"DSP_MBI\", \"RP_MBI\", \"Nivel_AE_MBI\", \"Nivel_DSP_MBI\", \"Nivel_RP_MBI\"])\n",
    "\n"
   ]
  },
  {
   "cell_type": "code",
   "execution_count": 4,
   "id": "01306d67-34de-4e54-9fa0-5ed5c3c0b405",
   "metadata": {},
   "outputs": [
    {
     "name": "stdout",
     "output_type": "stream",
     "text": [
      "Shape después de la limpieza: (101, 137)\n",
      "Distribución de clases: MBI_Burnout\n",
      "0.0    81\n",
      "1.0    20\n",
      "Name: count, dtype: int64\n"
     ]
    }
   ],
   "source": [
    "# Reemplazar todos los valores de 999 con NaN\n",
    "df = df.replace([999, '999', 999.0, '999.0'], np.nan)\n",
    "\n",
    "# Eliminar columnas con más de 20% de valores NaN\n",
    "threshold = 0.20  # 20%\n",
    "min_non_na = int((1 - threshold) * len(df))\n",
    "df = df.dropna(axis=1, thresh=min_non_na)\n",
    "\n",
    "df.dropna(inplace=True)\n",
    "\n",
    "print(f\"Shape después de la limpieza: {df.shape}\")\n",
    "print(f\"Distribución de clases: {df['MBI_Burnout'].value_counts()}\")"
   ]
  },
  {
   "cell_type": "code",
   "execution_count": 5,
   "id": "fb2d616c-9c67-4612-92fe-0f95520778b6",
   "metadata": {},
   "outputs": [],
   "source": [
    "# Seleccionar filas donde la variable objetivo NO es nula\n",
    "df = df[df['MBI_RiesgoBurnout1'].notna()]"
   ]
  },
  {
   "cell_type": "code",
   "execution_count": 6,
   "id": "c84408fe-205e-4b6c-a488-1322b533955b",
   "metadata": {},
   "outputs": [],
   "source": [
    "# Definir variable objetivo y features\n",
    "X = df.drop(columns=[\"MBI_Burnout\", \"MBI_RiesgoBurnout1\"])  \n",
    "y = df[\"MBI_RiesgoBurnout1\"]\n"
   ]
  },
  {
   "cell_type": "code",
   "execution_count": 7,
   "id": "41f05d77-867a-4c8e-a7d9-78e5ef5c6c6a",
   "metadata": {},
   "outputs": [],
   "source": [
    "num_cols = X.select_dtypes(include=[\"int64\", \"float64\"]).columns\n",
    "\n",
    "# Lleva a demasiado overfitting\n",
    "\n",
    "#imputer_num = SimpleImputer(strategy=\"mean\")\n",
    "#X[num_cols] = pd.DataFrame(\n",
    "#    imputer_num.fit_transform(X[num_cols]), \n",
    "#    columns=num_cols, \n",
    "#    index=X.index\n",
    "#)"
   ]
  },
  {
   "cell_type": "code",
   "execution_count": 8,
   "id": "30e9c546-ea31-4747-9307-85b5198c8b6f",
   "metadata": {},
   "outputs": [],
   "source": [
    "X = X.select_dtypes(include=[np.number])"
   ]
  },
  {
   "cell_type": "code",
   "execution_count": 9,
   "id": "aca74c29-7db8-443f-b776-abfbf4e0b5e0",
   "metadata": {},
   "outputs": [
    {
     "name": "stdout",
     "output_type": "stream",
     "text": [
      "\n",
      "=== Análisis de Features ===\n",
      "Top 10 features por correlación con objetivo:\n",
      "  MBI_6: 0.619\n",
      "  MBI_8: 0.584\n",
      "  MBI_16: 0.575\n",
      "  MBI_10: 0.519\n",
      "  MBI_20: 0.512\n",
      "  MBI_3: 0.469\n",
      "  MBI_19: 0.458\n",
      "  MBI_11: 0.434\n",
      "  MBI_1: 0.432\n",
      "  MBI_5: 0.420\n",
      "  MBI_13: 0.396\n",
      "  PERMA_11_Soledad: 0.391\n",
      "  PERMA_23_Feliz: 0.384\n",
      "  PERMA_22_Contento: 0.383\n",
      "  PERMA_3_Feliz: 0.376\n",
      "  MBI_18: 0.374\n",
      "  MBI_22: 0.372\n",
      "  PERMA_9_Valor_Vida: 0.359\n",
      "  MBI_17: 0.359\n",
      "  MBI_12: 0.346\n"
     ]
    }
   ],
   "source": [
    "# ANALIZAR CORRELACIÓN Y REDUCIR DIMENSIONALIDAD\n",
    "print(\"\\n=== Análisis de Features ===\")\n",
    "\n",
    "#  Análisis de correlación con target\n",
    "correlations = []\n",
    "for col in X.columns:\n",
    "    corr = np.corrcoef(X[col], y)[0, 1]\n",
    "    correlations.append((col, abs(corr)))\n",
    "\n",
    "correlations.sort(key=lambda x: x[1], reverse=True)\n",
    "print(\"Top 10 features por correlación con objetivo:\")\n",
    "for col, corr in correlations[:20]:\n",
    "    print(f\"  {col}: {corr:.3f}\")"
   ]
  },
  {
   "cell_type": "code",
   "execution_count": 10,
   "id": "61aacc38-4999-4e24-9b69-0e6211f4505d",
   "metadata": {},
   "outputs": [
    {
     "name": "stdout",
     "output_type": "stream",
     "text": [
      "\n",
      "Top 15 features por importancia de Random Forest:\n",
      "  MBI_6: 0.0684\n",
      "  MBI_8: 0.0664\n",
      "  MBI_16: 0.0569\n",
      "  MBI_20: 0.0548\n",
      "  MBI_10: 0.0473\n",
      "  MBI_17: 0.0368\n",
      "  MBI_19: 0.0315\n",
      "  MBI_11: 0.0299\n",
      "  MBI_5: 0.0278\n",
      "  PERMA_11_Soledad: 0.0270\n",
      "  MBI_3: 0.0252\n",
      "  MBI_1: 0.0229\n",
      "  MBI_18: 0.0228\n",
      "  AñosPractica: 0.0205\n",
      "  PERMA_9_Valor_Vida: 0.0200\n",
      "  MBI_13: 0.0159\n",
      "  Especialidad: 0.0159\n",
      "  Edad: 0.0144\n",
      "  MBI_22: 0.0136\n",
      "  MBI_21: 0.0135\n"
     ]
    }
   ],
   "source": [
    "# Random Forest para importancia de features\n",
    "rf_selector = RandomForestClassifier(n_estimators=100, random_state=42)\n",
    "rf_selector.fit(X, y)\n",
    "\n",
    "importances = rf_selector.feature_importances_\n",
    "feature_importance = list(zip(X.columns, importances))\n",
    "feature_importance.sort(key=lambda x: x[1], reverse=True)\n",
    "\n",
    "print(\"\\nTop 15 features por importancia de Random Forest:\")\n",
    "for col, imp in feature_importance[:20]:\n",
    "    print(f\"  {col}: {imp:.4f}\")"
   ]
  },
  {
   "cell_type": "code",
   "execution_count": 11,
   "id": "7c9c3ddf-1920-4408-92b3-2d82ba9dec6c",
   "metadata": {},
   "outputs": [
    {
     "name": "stdout",
     "output_type": "stream",
     "text": [
      "\n",
      "Shape con features reducidas: (101, 20)\n"
     ]
    }
   ],
   "source": [
    "# Seleccionar las mejores features (máximo 20 para evitar overfitting)\n",
    "top_features = [col for col, imp in feature_importance[:20]]\n",
    "X_reduced = X[top_features]\n",
    "print(f\"\\nShape con features reducidas: {X_reduced.shape}\")"
   ]
  },
  {
   "cell_type": "code",
   "execution_count": 12,
   "id": "4302dff6-6d66-42fe-bad9-99f84dcc1791",
   "metadata": {},
   "outputs": [],
   "source": [
    "# Dividir el train/test con el dataset reducido\n",
    "X_train, X_test, y_train, y_test = train_test_split(\n",
    "    X_reduced, y, test_size=0.4, stratify=y, random_state=42\n",
    ")\n"
   ]
  },
  {
   "cell_type": "code",
   "execution_count": 13,
   "id": "9c687c31-ca99-450b-8bcb-0da2001564ed",
   "metadata": {},
   "outputs": [],
   "source": [
    "# PIPELINE CON VALIDACIÓN  ROBUSTA\n",
    "pipe = Pipeline([\n",
    "    (\"imputer\", SimpleImputer(strategy=\"median\")),  # Usar median para outliers\n",
    "    (\"scaler\", RobustScaler()),  # Más robusto que StandardScaler\n",
    "    (\"knn\", KNeighborsClassifier())\n",
    "])\n",
    "\n",
    "param_grid = {\n",
    "    \"knn__n_neighbors\": [3, 5, 7, 9, 11, 13],  # Valores más razonables\n",
    "    \"knn__weights\": [\"uniform\", \"distance\"],\n",
    "    \"knn__metric\": [\"euclidean\", \"manhattan\"],\n",
    "    \"knn__p\": [1, 2]  # Para minkowski\n",
    "}\n",
    "\n",
    "# Validación cruzada\n",
    "cv = StratifiedKFold(n_splits=10, shuffle=True, random_state=42)  # Más folds\n",
    "\n",
    "grid = GridSearchCV(\n",
    "    pipe,\n",
    "    param_grid,\n",
    "    cv=cv,\n",
    "    scoring=\"f1_weighted\",\n",
    "    n_jobs=-1,\n",
    "    verbose=1\n",
    ")"
   ]
  },
  {
   "cell_type": "code",
   "execution_count": 14,
   "id": "c42fa123-f976-4441-83c7-2d09700ce18d",
   "metadata": {},
   "outputs": [
    {
     "name": "stdout",
     "output_type": "stream",
     "text": [
      "Fitting 10 folds for each of 48 candidates, totalling 480 fits\n",
      "Mejores parámetros: {'knn__metric': 'euclidean', 'knn__n_neighbors': 13, 'knn__p': 1, 'knn__weights': 'uniform'}\n",
      "Mejor puntaje CV: 0.9375\n"
     ]
    }
   ],
   "source": [
    "grid.fit(X_train, y_train)\n",
    "\n",
    "print(\"Mejores parámetros:\", grid.best_params_)\n",
    "print(\"Mejor puntaje CV:\", grid.best_score_)"
   ]
  },
  {
   "cell_type": "code",
   "execution_count": 15,
   "id": "8636c803-ef97-4990-8f96-7c3d432a9040",
   "metadata": {},
   "outputs": [
    {
     "name": "stdout",
     "output_type": "stream",
     "text": [
      "\n",
      "=== Evaluación del modelo ===\n",
      "Puntaje de evaluación cruzada: [0.92016807 0.92016807 0.76666667 0.91052632 0.91052632]\n",
      "CV Media: 0.886 (+/- 0.119)\n"
     ]
    }
   ],
   "source": [
    "# EVALUACIÓN MÁS COMPLETA\n",
    "print(\"\\n=== Evaluación del modelo ===\")\n",
    "\n",
    "# Puntaje de evaluación cruzada en trainings\n",
    "cv_scores = cross_val_score(grid.best_estimator_, X_train, y_train, \n",
    "                           cv=StratifiedKFold(n_splits=5, shuffle=True, random_state=42), \n",
    "                           scoring='f1_weighted')\n",
    "print(f\"Puntaje de evaluación cruzada: {cv_scores}\")\n",
    "print(f\"CV Media: {cv_scores.mean():.3f} (+/- {cv_scores.std() * 2:.3f})\")\n"
   ]
  },
  {
   "cell_type": "code",
   "execution_count": 16,
   "id": "006ee69f-337f-47e2-a146-581a79833b18",
   "metadata": {},
   "outputs": [
    {
     "name": "stdout",
     "output_type": "stream",
     "text": [
      "\n",
      "Test Accuracy: 0.927\n",
      "Precision: 0.943\n",
      "Recall: 0.927\n",
      "F1-score: 0.929\n",
      "ROC-AUC: 0.959\n"
     ]
    }
   ],
   "source": [
    "# Evaluar en test\n",
    "y_pred = grid.predict(X_test)\n",
    "y_proba = grid.predict_proba(X_test)\n",
    "\n",
    "print(f\"\\nTest Accuracy: {accuracy_score(y_test, y_pred):.3f}\")\n",
    "print(f\"Precision: {precision_score(y_test, y_pred, average='weighted'):.3f}\")\n",
    "print(f\"Recall: {recall_score(y_test, y_pred, average='weighted'):.3f}\")\n",
    "print(f\"F1-score: {f1_score(y_test, y_pred, average='weighted'):.3f}\")\n",
    "\n",
    "if len(np.unique(y)) == 2:\n",
    "    print(f\"ROC-AUC: {roc_auc_score(y_test, y_proba[:, 1]):.3f}\")"
   ]
  },
  {
   "cell_type": "code",
   "execution_count": 17,
   "id": "29806b97-15ec-401c-8a4a-236a877aab6e",
   "metadata": {},
   "outputs": [
    {
     "name": "stdout",
     "output_type": "stream",
     "text": [
      "\n",
      "Reporte de Clasificación:\n",
      "               precision    recall  f1-score   support\n",
      "\n",
      "         0.0       0.79      1.00      0.88        11\n",
      "         1.0       1.00      0.90      0.95        30\n",
      "\n",
      "    accuracy                           0.93        41\n",
      "   macro avg       0.89      0.95      0.91        41\n",
      "weighted avg       0.94      0.93      0.93        41\n",
      "\n"
     ]
    },
    {
     "data": {
      "text/plain": [
       "Text(0.5, 1.0, 'Matriz de Confusión')"
      ]
     },
     "execution_count": 17,
     "metadata": {},
     "output_type": "execute_result"
    },
    {
     "data": {
      "image/png": "[encoded data removed]",
      "text/plain": [
       "<Figure size 1000x400 with 2 Axes>"
      ]
     },
     "metadata": {},
     "output_type": "display_data"
    }
   ],
   "source": [
    "print(\"\\nReporte de Clasificación:\\n\", classification_report(y_test, y_pred))\n",
    "\n",
    "# Matriz de confusión\n",
    "plt.figure(figsize=(10, 4))\n",
    "\n",
    "plt.subplot(1, 2, 1)\n",
    "cm = confusion_matrix(y_test, y_pred)\n",
    "sns.heatmap(cm, annot=True, fmt=\"d\", cmap=\"Blues\", \n",
    "            xticklabels=np.unique(y), yticklabels=np.unique(y))\n",
    "plt.xlabel(\"Predecido\")\n",
    "plt.ylabel(\"Verdadero\")\n",
    "plt.title(\"Matriz de Confusión\")"
   ]
  },
  {
   "cell_type": "code",
   "execution_count": 18,
   "id": "b4b117c9-fc31-4a60-8cb0-f053e42fc59a",
   "metadata": {},
   "outputs": [
    {
     "data": {
      "image/png": "[encoded data removed]",
      "text/plain": [
       "<Figure size 640x480 with 1 Axes>"
      ]
     },
     "metadata": {},
     "output_type": "display_data"
    }
   ],
   "source": [
    "# ROC Curva\n",
    "if len(np.unique(y)) == 2:\n",
    "    plt.subplot(1, 2, 2)\n",
    "    fpr, tpr, thresholds = roc_curve(y_test, y_proba[:, 1])\n",
    "    roc_auc = auc(fpr, tpr)\n",
    "    plt.plot(fpr, tpr, label=f\"AUC = {roc_auc:.3f}\")\n",
    "    plt.plot([0,1],[0,1],\"--\", color=\"gray\")\n",
    "    plt.xlabel(\"Falso positivo\")\n",
    "    plt.ylabel(\"Verdadero positivo\")\n",
    "    plt.title(\"Curva ROC\")\n",
    "    plt.legend()\n",
    "\n",
    "plt.tight_layout()\n",
    "plt.show()"
   ]
  },
  {
   "cell_type": "code",
   "execution_count": 19,
   "id": "3a564051-1967-49bd-ac83-2c1a086b37cc",
   "metadata": {},
   "outputs": [
    {
     "name": "stdout",
     "output_type": "stream",
     "text": [
      "\n",
      "=== FINAL FEATURE ANALYSIS ===\n",
      "Top features por importancia según permutación:\n",
      "   feature  importancia\n",
      "3   MBI_20     0.029268\n",
      "18  MBI_22     0.029268\n",
      "1    MBI_8     0.026829\n",
      "7   MBI_11     0.024390\n",
      "0    MBI_6     0.021951\n",
      "5   MBI_17     0.019512\n",
      "11   MBI_1     0.007317\n",
      "15  MBI_13     0.004878\n",
      "10   MBI_3     0.004878\n",
      "4   MBI_10     0.002439\n"
     ]
    }
   ],
   "source": [
    "# ANÁLISIS DE FEATURES FINALES\n",
    "print(\"\\n=== FINAL FEATURE ANALYSIS ===\")\n",
    "best_knn = grid.best_estimator_\n",
    "\n",
    "# Importancia según permutacion\n",
    "perm_importance = permutation_importance(best_knn, X_test, y_test, \n",
    "                                        n_repeats=10, random_state=42)\n",
    "\n",
    "perm_importance_df = pd.DataFrame({\n",
    "    'feature': X_reduced.columns,\n",
    "    'importancia': perm_importance.importances_mean\n",
    "}).sort_values('importancia', ascending=False)\n",
    "\n",
    "print(\"Top features por importancia según permutación:\")\n",
    "print(perm_importance_df.head(10))"
   ]
  },
  {
   "cell_type": "code",
   "execution_count": 20,
   "id": "b7cc8cf5-113d-4d69-9fae-1bc2cd9fe6db",
   "metadata": {},
   "outputs": [
    {
     "data": {
      "image/png": "[encoded data removed]",
      "text/plain": [
       "<Figure size 1200x600 with 1 Axes>"
      ]
     },
     "metadata": {},
     "output_type": "display_data"
    }
   ],
   "source": [
    "# VISUALIZACIÓN DE FEATURES IMPORTANTES\n",
    "plt.figure(figsize=(12, 6))\n",
    "top_10_features = perm_importance_df.head(10)\n",
    "plt.barh(top_10_features['feature'], top_10_features['importancia'])\n",
    "plt.xlabel('Importancia')\n",
    "plt.title('Top 10 Features más importantes')\n",
    "plt.gca().invert_yaxis()\n",
    "plt.tight_layout()\n",
    "plt.show()"
   ]
  },
  {
   "cell_type": "code",
   "execution_count": 21,
   "id": "27e16847-678c-4db6-af8b-ada2451df51c",
   "metadata": {},
   "outputs": [
    {
     "name": "stdout",
     "output_type": "stream",
     "text": [
      "\n",
      "=== OVERFITTING CHECK ===\n",
      "Puntaje en training: 0.919\n",
      "Puntaje en test: 0.929\n",
      "Diferencia: 0.010\n"
     ]
    }
   ],
   "source": [
    "# VERIFICACIÓN FINAL DE OVERFITTING\n",
    "train_score = grid.score(X_train, y_train)\n",
    "test_score = grid.score(X_test, y_test)\n",
    "\n",
    "print(f\"\\n=== OVERFITTING CHECK ===\")\n",
    "print(f\"Puntaje en training: {train_score:.3f}\")\n",
    "print(f\"Puntaje en test: {test_score:.3f}\")\n",
    "print(f\"Diferencia: {abs(train_score - test_score):.3f}\")\n"
   ]
  }
 ],
 "metadata": {
  "kernelspec": {
   "display_name": "Python 3 (ipykernel)",
   "language": "python",
   "name": "python3"
  },
  "language_info": {
   "codemirror_mode": {
    "name": "ipython",
    "version": 3
   },
   "file_extension": ".py",
   "mimetype": "text/x-python",
   "name": "python",
   "nbconvert_exporter": "python",
   "pygments_lexer": "ipython3",
   "version": "3.12.2"
  }
 },
 "nbformat": 4,
 "nbformat_minor": 5
}
